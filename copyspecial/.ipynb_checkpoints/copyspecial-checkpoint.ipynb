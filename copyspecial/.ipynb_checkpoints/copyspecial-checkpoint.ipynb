{
 "cells": [
  {
   "cell_type": "markdown",
   "metadata": {},
   "source": [
    "# Google Python class in Julia Part 3: Copyspecial\n",
    "\n",
    "As part of teaching myself Python (after doing so half-heartedly for about a year) I completed Google's Python course. Also during that time period, I was learning Julia and mostly using its packages to check the results of various statistical models (GLM, MixedModels). What is nice about Julia is that it combines the best parts of Python, MATLAB, and R. For current purposes, it shares several data structures with Python.\n",
    "\n",
    "One goal of mine is to make code and analyses portable across platforms and programs. The Google Python course is good for this, at it instructs how to perform basic tasks (file I/O, counts, low-level tokenization) using base Python. Julia is a good language to port this to, as not only it shares data structures, but also is designed to be fast; something that could be very useful when doing basic NLP-like tasks in batches. So in order to familiarize myself with Julia and learn how to port things, I will implement the exercises in Julia.\n",
    "\n",
    "## Copyspecial exercise\n",
    "\n",
    "The goal of the copyspecial exercise is to take a list of files contained in a directory and either copy them to a new directory or place them into a ZIP archive. The first part of of the exercise focuses on getting the absolute paths of the files. The second part involves copying the files. The third part focuses on commands to create the ZIP archive.\n"
   ]
  },
  {
   "cell_type": "markdown",
   "metadata": {},
   "source": [
    "## Part A: Manipulating file paths\n",
    "The first part of the exercise involves:  \n",
    "1. specifying a directory;  \n",
    "2. printing an error if the files with the correct format are not found;  \n",
    "3. if the files are found, put them in a list;  \n",
    "4. print the absolute path for each file;  \n",
    "5. return the list of file names (with complete path)  \n",
    "\n",
    "The first step is to define a function that takes a directory as an argument and then implements steps 1 - 5."
   ]
  },
  {
   "cell_type": "code",
   "execution_count": 1,
   "metadata": {
    "collapsed": false
   },
   "outputs": [
    {
     "data": {
      "text/plain": [
       "get_special_paths (generic function with 1 method)"
      ]
     },
     "execution_count": 1,
     "metadata": {},
     "output_type": "execute_result"
    }
   ],
   "source": [
    "function get_special_paths(dir)\n",
    "    \"\"\"Prints the absolute paths of each of the 'special' files in \n",
    "    the directory \"\"\"\n",
    "    filenames = readdir(expanduser(dir));\n",
    "    special_list = matchall(r\"\\w+__\\w+__.\\w+\", join(filenames, \" \"));\n",
    "    if length(special_list) == 0\n",
    "        print(\"Special files not found in this directory\", \"\\n\")\n",
    "    else\n",
    "        print(\"Special files found in this directory\", \"\\n\")\n",
    "    end\n",
    "    special_paths = ASCIIString[];\n",
    "    for file in special_list;\n",
    "        push!(special_paths, abspath(file));\n",
    "        print(abspath(file), \"\\n\")\n",
    "    end\n",
    "    return special_paths\n",
    "end"
   ]
  },
  {
   "cell_type": "markdown",
   "metadata": {},
   "source": [
    "Let's break down the above function:  \n",
    "\n",
    "First, the functions is defined with a single argument - the name of the directory to search in. Next, the `filenames` from that directory using tilde expanson (`expanduser`) and the `readdir` function.  After that, an `if-else` statement is used to determine if any matches were found and if not, says so. Lastly, a new empty `Array` is created and the names of the special files are appended to that array and the absolute path names are then printed. The function returns the array with the absolute paths of the special files.  \n",
    "\n",
    "Now to test the results:"
   ]
  },
  {
   "cell_type": "code",
   "execution_count": 2,
   "metadata": {
    "collapsed": false
   },
   "outputs": [
    {
     "name": "stdout",
     "output_type": "stream",
     "text": [
      "Special files found in this directory\n",
      "/Users/julian/GitHub/google-python-julia/copyspecial/xyz__hello__.txt\n",
      "/Users/julian/GitHub/google-python-julia/copyspecial/zz__something__.jpg\n"
     ]
    }
   ],
   "source": [
    "get_special_paths(\"~/GitHub/google-python-julia/copyspecial\");"
   ]
  },
  {
   "cell_type": "code",
   "execution_count": 3,
   "metadata": {
    "collapsed": false
   },
   "outputs": [
    {
     "name": "stdout",
     "output_type": "stream",
     "text": [
      "Special files not found in this directory\n"
     ]
    }
   ],
   "source": [
    "get_special_paths(\"~/GitHub/model-comparison-r-julia\");"
   ]
  },
  {
   "cell_type": "markdown",
   "metadata": {},
   "source": [
    "## Part B: copying files\n",
    "The next step is to create a function to copy the files. This function will take two directories as arguments, a source and a target, and then copy the files from source to target. If the target directory does not exist, then it will be created."
   ]
  },
  {
   "cell_type": "code",
   "execution_count": 4,
   "metadata": {
    "collapsed": false
   },
   "outputs": [
    {
     "data": {
      "text/plain": [
       "copy_to (generic function with 1 method)"
      ]
     },
     "execution_count": 4,
     "metadata": {},
     "output_type": "execute_result"
    }
   ],
   "source": [
    "function copy_to(source_dir, target_dir)\n",
    "    \"\"\" Copies file_list from source_dir into target_dir\n",
    "    If target_dir does not exist, it is created with a warning.\n",
    "    Calls get_special_path() to get source directory and then proceeds.\"\"\"\n",
    "    special_paths = get_special_paths(source_dir);\n",
    "    target_path = expanduser(target_dir);\n",
    "    if isdir(expanduser(target_dir)) == true\n",
    "        for dir_file in special_paths\n",
    "            run(`cp $dir_file $target_path`)\n",
    "        end\n",
    "    else\n",
    "        mkpath(target_path)\n",
    "        print(\"Target did not exist, so it was created prior to copying.\", \"\\n\")\n",
    "        for dir_file in special_paths\n",
    "            run(`cp $dir_file $target_path`)\n",
    "        end\n",
    "    end\n",
    "end\n"
   ]
  },
  {
   "cell_type": "markdown",
   "metadata": {},
   "source": [
    "Breaking down the above function:  \n",
    "\n",
    "First call is to the `get_special_paths` function to get the full paths of the files specified. Next in an `if-else` statement, the existence of the `target_dir` is tested. If it evaluates to `true`, then for each file in `special_paths`, it is copied into to the target directory. If it evaluates to `false`, then the directory is created, a message is printed saying the directory was created and the files are copied.  \n",
    "\n",
    "I used the ability of Julia to call shell commands (the `run` function) since I kept getting an `EISDIR` error if I called the built-in `cp` function. The `$` symbol allows for calling of the variables that contain the strings. This might be handled better in release 0.4.0 with the `recursive` flag).  \n",
    "\n",
    "Now to test out the function:"
   ]
  },
  {
   "cell_type": "code",
   "execution_count": 5,
   "metadata": {
    "collapsed": false
   },
   "outputs": [
    {
     "name": "stdout",
     "output_type": "stream",
     "text": [
      "Special files found in this directory\n",
      "/Users/julian/GitHub/google-python-julia/copyspecial/xyz__hello__.txt\n",
      "/Users/julian/GitHub/google-python-julia/copyspecial/zz__something__.jpg\n"
     ]
    }
   ],
   "source": [
    "copy_to(\"~/GitHub/google-python-julia/copyspecial\", \"~/GitHub/google-python-julia/copyspecial/test-dir\")"
   ]
  },
  {
   "cell_type": "code",
   "execution_count": 6,
   "metadata": {
    "collapsed": false
   },
   "outputs": [
    {
     "name": "stdout",
     "output_type": "stream",
     "text": [
      "test-zip.zip\n",
      "xyz__hello__.txt\n",
      "zz__something__.jpg\n"
     ]
    }
   ],
   "source": [
    "test_location  = expanduser(\"~/GitHub/google-python-julia/copyspecial/test-dir\");\n",
    "run(`ls $test_location`)"
   ]
  },
  {
   "cell_type": "markdown",
   "metadata": {},
   "source": [
    "The next step is to create a function that takes the files and puts them in a ZIP archive if a specific flag is present."
   ]
  },
  {
   "cell_type": "markdown",
   "metadata": {},
   "source": [
    "## Part C: creating a ZIP archive\n",
    "The next step is to create a function that creates a ZIP archive. While it is possible to do this using the [ZipFile](https://zipfilejl.readthedocs.org/en/latest/) package, the goal was to use base Julia to implement the commands as much as possible. The goal here is to use shell commands called from Julia in order to create the archive.  \n",
    "\n",
    "The function structure looks like this:  \n",
    "1. call `get_special_paths` to get the file names  \n",
    "2. call the `zip` command using the `run` function  \n",
    "3. print an error if the archive cannot be created"
   ]
  },
  {
   "cell_type": "code",
   "execution_count": 7,
   "metadata": {
    "collapsed": false
   },
   "outputs": [
    {
     "data": {
      "text/plain": [
       "zip_to (generic function with 1 method)"
      ]
     },
     "execution_count": 7,
     "metadata": {},
     "output_type": "execute_result"
    }
   ],
   "source": [
    "function zip_to(source_dir, zip_file)\n",
    "    \"\"\" create ZIP archive of the special files.\n",
    "    Gives zip -j error message if command fails.\n",
    "    Calls get_special_paths() first to get list of files.\"\"\"\n",
    "    special_paths = get_special_paths(source_dir);\n",
    "    zip_path = expanduser(zip_file)\n",
    "    try run(`zip -j $zip_path $special_paths`)\n",
    "        print(\"Creating ZIP archive\")\n",
    "    catch err\n",
    "        showerror(STDOUT, err, backtrace())\n",
    "    end\n",
    "end"
   ]
  },
  {
   "cell_type": "markdown",
   "metadata": {},
   "source": [
    "Time to parse the function again. First `get_special_paths` is called to get the file names. Second, the path of the ZIP archive is expanded. Then a `try-catch` statement is used to create the archive and gives the error message if there is one.  Time to see this in action:"
   ]
  },
  {
   "cell_type": "code",
   "execution_count": 8,
   "metadata": {
    "collapsed": false
   },
   "outputs": [
    {
     "name": "stdout",
     "output_type": "stream",
     "text": [
      "Special files found in this directory\n",
      "/Users/julian/GitHub/google-python-julia/copyspecial/xyz__hello__.txt\n",
      "/Users/julian/GitHub/google-python-julia/copyspecial/zz__something__.jpg\n",
      "updating: xyz__hello__.txt (deflated 9%)\n",
      "updating: zz__something__.jpg (deflated 3%)\n",
      "Creating ZIP archive"
     ]
    }
   ],
   "source": [
    "zip_to(\"~/GitHub/google-python-julia/copyspecial\", \"~/GitHub/google-python-julia/copyspecial/test-dir/test-zip.zip\")"
   ]
  },
  {
   "cell_type": "code",
   "execution_count": 9,
   "metadata": {
    "collapsed": false
   },
   "outputs": [
    {
     "name": "stdout",
     "output_type": "stream",
     "text": [
      "test-zip.zip\n",
      "xyz__hello__.txt\n",
      "zz__something__.jpg\n"
     ]
    }
   ],
   "source": [
    "run(`ls $test_location`)"
   ]
  },
  {
   "cell_type": "markdown",
   "metadata": {},
   "source": [
    "## Specifying argument structure\n",
    "The last thing to do is to specify how the pregram/script is to behave, based on the presence or absence of flags. The usage looks like this:  \n",
    "\n",
    "`julia copyspecial.jl --todir dir source`  \n",
    "\n",
    "-or-  \n",
    "\n",
    "`julia copyspecial.jl --tozip zip source`.  \n"
   ]
  },
  {
   "cell_type": "markdown",
   "metadata": {},
   "source": [
    "If arguments are misspecified, then the script exits (not executed)."
   ]
  },
  {
   "cell_type": "code",
   "execution_count": null,
   "metadata": {
    "collapsed": true
   },
   "outputs": [],
   "source": [
    "if ARGS == false\n",
    "    print(\"usage: [--todir dir] source or [--tozip zip] source\")\n",
    "    exit(0)\n",
    "end"
   ]
  },
  {
   "cell_type": "markdown",
   "metadata": {},
   "source": [
    "Now to specify what happens when the different flags are present (not executed)."
   ]
  },
  {
   "cell_type": "code",
   "execution_count": null,
   "metadata": {
    "collapsed": true
   },
   "outputs": [],
   "source": [
    "directory = ARGS[3]\n",
    "\n",
    "if ARGS[1] == \"--todir\"\n",
    "    todir = true\n",
    "end\n",
    "\n",
    "if ARGS[1] == \"--tozip\"\n",
    "    tozip = true\n",
    "end\n",
    "\n",
    "if todir == true\n",
    "    file_paths = get_special_paths(directory);\n",
    "    copy_to(directory, ARGS[2])\n",
    "elseif tozip == true\n",
    "    file_paths = get_special_paths(ARGS[3]);\n",
    "    zip_to(directory, ARGS[2])\n",
    "else\n",
    "    print(join(file_paths, \"\\n\"))\n",
    "end\n"
   ]
  },
  {
   "cell_type": "markdown",
   "metadata": {},
   "source": [
    "Source code is in the directory."
   ]
  },
  {
   "cell_type": "markdown",
   "metadata": {},
   "source": [
    "# References\n",
    "Julia by example. Used the code for error handling to print out and trace the error. http://samuelcolvin.github.io/JuliaByExample/"
   ]
  },
  {
   "cell_type": "code",
   "execution_count": 11,
   "metadata": {
    "collapsed": false
   },
   "outputs": [
    {
     "name": "stdout",
     "output_type": "stream",
     "text": [
      "Julia Version 0.3.8\n",
      "Commit 79599ad (2015-04-30 23:40 UTC)\n",
      "Platform Info:\n",
      "  System: Darwin (x86_64-apple-darwin13.4.0)\n",
      "  CPU: Intel(R) Core(TM) i5-3210M CPU @ 2.50GHz\n",
      "  WORD_SIZE: 64\n",
      "  BLAS: libopenblas (USE64BITINT DYNAMIC_ARCH NO_AFFINITY Sandybridge)\n",
      "  LAPACK: libopenblas\n",
      "  LIBM: libopenlibm\n",
      "  LLVM: libLLVM-3.3\n"
     ]
    }
   ],
   "source": [
    "versioninfo()"
   ]
  }
 ],
 "metadata": {
  "kernelspec": {
   "display_name": "Julia 0.3.8",
   "language": "julia",
   "name": "julia-0.3"
  },
  "language_info": {
   "name": "julia",
   "version": "0.3.8"
  }
 },
 "nbformat": 4,
 "nbformat_minor": 0
}
